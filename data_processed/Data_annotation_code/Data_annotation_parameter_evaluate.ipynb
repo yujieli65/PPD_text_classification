{
 "cells": [
  {
   "cell_type": "markdown",
   "metadata": {
    "id": "2LpWouRETeVY"
   },
   "source": [
    "Stage 1: Use machine labeling on the unlabeled dataset. Among them, there are 70 samples labeled by four people, 100 samples labeled by two people, and 190 samples set aside as the final test set. Therefore, the number of samples to be labeled is 598, and after removing one duplicate, there are 597 samples."
   ]
  },
  {
   "cell_type": "code",
   "execution_count": 1,
   "metadata": {
    "colab": {
     "base_uri": "https://localhost:8080/",
     "height": 71
    },
    "collapsed": true,
    "executionInfo": {
     "elapsed": 3980,
     "status": "ok",
     "timestamp": 1746643781637,
     "user": {
      "displayName": "YuJie Li",
      "userId": "03390522068803415481"
     },
     "user_tz": -120
    },
    "id": "44oQ09Z-TSif",
    "outputId": "dd18bca1-ba72-4edc-f739-b490c14f9ae2"
   },
   "outputs": [
    {
     "name": "stdout",
     "output_type": "stream",
     "text": [
      "total 0 duplicate_texts\n"
     ]
    },
    {
     "data": {
      "application/vnd.google.colaboratory.intrinsic+json": {
       "repr_error": "Out of range float values are not JSON compliant: nan",
       "type": "dataframe"
      },
      "text/html": [
       "\n",
       "  <div id=\"df-f84171e2-e22c-42f2-8dca-4020f6693cc2\" class=\"colab-df-container\">\n",
       "    <div>\n",
       "<style scoped>\n",
       "    .dataframe tbody tr th:only-of-type {\n",
       "        vertical-align: middle;\n",
       "    }\n",
       "\n",
       "    .dataframe tbody tr th {\n",
       "        vertical-align: top;\n",
       "    }\n",
       "\n",
       "    .dataframe thead th {\n",
       "        text-align: right;\n",
       "    }\n",
       "</style>\n",
       "<table border=\"1\" class=\"dataframe\">\n",
       "  <thead>\n",
       "    <tr style=\"text-align: right;\">\n",
       "      <th></th>\n",
       "      <th>text</th>\n",
       "      <th>label</th>\n",
       "    </tr>\n",
       "  </thead>\n",
       "  <tbody>\n",
       "  </tbody>\n",
       "</table>\n",
       "</div>\n",
       "    <div class=\"colab-df-buttons\">\n",
       "\n",
       "  <div class=\"colab-df-container\">\n",
       "    <button class=\"colab-df-convert\" onclick=\"convertToInteractive('df-f84171e2-e22c-42f2-8dca-4020f6693cc2')\"\n",
       "            title=\"Convert this dataframe to an interactive table.\"\n",
       "            style=\"display:none;\">\n",
       "\n",
       "  <svg xmlns=\"http://www.w3.org/2000/svg\" height=\"24px\" viewBox=\"0 -960 960 960\">\n",
       "    <path d=\"M120-120v-720h720v720H120Zm60-500h600v-160H180v160Zm220 220h160v-160H400v160Zm0 220h160v-160H400v160ZM180-400h160v-160H180v160Zm440 0h160v-160H620v160ZM180-180h160v-160H180v160Zm440 0h160v-160H620v160Z\"/>\n",
       "  </svg>\n",
       "    </button>\n",
       "\n",
       "  <style>\n",
       "    .colab-df-container {\n",
       "      display:flex;\n",
       "      gap: 12px;\n",
       "    }\n",
       "\n",
       "    .colab-df-convert {\n",
       "      background-color: #E8F0FE;\n",
       "      border: none;\n",
       "      border-radius: 50%;\n",
       "      cursor: pointer;\n",
       "      display: none;\n",
       "      fill: #1967D2;\n",
       "      height: 32px;\n",
       "      padding: 0 0 0 0;\n",
       "      width: 32px;\n",
       "    }\n",
       "\n",
       "    .colab-df-convert:hover {\n",
       "      background-color: #E2EBFA;\n",
       "      box-shadow: 0px 1px 2px rgba(60, 64, 67, 0.3), 0px 1px 3px 1px rgba(60, 64, 67, 0.15);\n",
       "      fill: #174EA6;\n",
       "    }\n",
       "\n",
       "    .colab-df-buttons div {\n",
       "      margin-bottom: 4px;\n",
       "    }\n",
       "\n",
       "    [theme=dark] .colab-df-convert {\n",
       "      background-color: #3B4455;\n",
       "      fill: #D2E3FC;\n",
       "    }\n",
       "\n",
       "    [theme=dark] .colab-df-convert:hover {\n",
       "      background-color: #434B5C;\n",
       "      box-shadow: 0px 1px 3px 1px rgba(0, 0, 0, 0.15);\n",
       "      filter: drop-shadow(0px 1px 2px rgba(0, 0, 0, 0.3));\n",
       "      fill: #FFFFFF;\n",
       "    }\n",
       "  </style>\n",
       "\n",
       "    <script>\n",
       "      const buttonEl =\n",
       "        document.querySelector('#df-f84171e2-e22c-42f2-8dca-4020f6693cc2 button.colab-df-convert');\n",
       "      buttonEl.style.display =\n",
       "        google.colab.kernel.accessAllowed ? 'block' : 'none';\n",
       "\n",
       "      async function convertToInteractive(key) {\n",
       "        const element = document.querySelector('#df-f84171e2-e22c-42f2-8dca-4020f6693cc2');\n",
       "        const dataTable =\n",
       "          await google.colab.kernel.invokeFunction('convertToInteractive',\n",
       "                                                    [key], {});\n",
       "        if (!dataTable) return;\n",
       "\n",
       "        const docLinkHtml = 'Like what you see? Visit the ' +\n",
       "          '<a target=\"_blank\" href=https://colab.research.google.com/notebooks/data_table.ipynb>data table notebook</a>'\n",
       "          + ' to learn more about interactive tables.';\n",
       "        element.innerHTML = '';\n",
       "        dataTable['output_type'] = 'display_data';\n",
       "        await google.colab.output.renderOutput(dataTable, element);\n",
       "        const docLink = document.createElement('div');\n",
       "        docLink.innerHTML = docLinkHtml;\n",
       "        element.appendChild(docLink);\n",
       "      }\n",
       "    </script>\n",
       "  </div>\n",
       "\n",
       "\n",
       "    </div>\n",
       "  </div>\n"
      ],
      "text/plain": [
       "Empty DataFrame\n",
       "Columns: [text, label]\n",
       "Index: []"
      ]
     },
     "metadata": {},
     "output_type": "display_data"
    }
   ],
   "source": [
    "import pandas as pd\n",
    "import numpy as np\n",
    "import matplotlib.pyplot as plt\n",
    "import seaborn as sns\n",
    "import warnings\n",
    "warnings.filterwarnings('ignore')\n",
    "\n",
    "df=pd.read_csv('raw_with_170labels_version2.csv')\n",
    "df.head()\n",
    "duplicate_texts = df[df.duplicated(subset='text', keep=False)]\n",
    "\n",
    "print(f\"total {len(duplicate_texts)} duplicate_texts\")\n",
    "display(duplicate_texts.head(10))"
   ]
  },
  {
   "cell_type": "code",
   "execution_count": 2,
   "metadata": {
    "colab": {
     "base_uri": "https://localhost:8080/"
    },
    "executionInfo": {
     "elapsed": 6,
     "status": "ok",
     "timestamp": 1746643785335,
     "user": {
      "displayName": "YuJie Li",
      "userId": "03390522068803415481"
     },
     "user_tz": -120
    },
    "id": "HnAMI11pXLSc",
    "outputId": "adbacaa7-f146-4fb9-d54e-4075b0497573"
   },
   "outputs": [
    {
     "data": {
      "text/plain": [
       "(957, 2)"
      ]
     },
     "execution_count": 2,
     "metadata": {},
     "output_type": "execute_result"
    }
   ],
   "source": [
    "df.shape"
   ]
  },
  {
   "cell_type": "code",
   "execution_count": 3,
   "metadata": {
    "colab": {
     "base_uri": "https://localhost:8080/"
    },
    "executionInfo": {
     "elapsed": 8,
     "status": "ok",
     "timestamp": 1746643786933,
     "user": {
      "displayName": "YuJie Li",
      "userId": "03390522068803415481"
     },
     "user_tz": -120
    },
    "id": "15O3g13_XPeD",
    "outputId": "92189b7e-fac5-4989-98e7-631a7143c08c"
   },
   "outputs": [
    {
     "data": {
      "text/plain": [
       "((170, 2), (787, 2))"
      ]
     },
     "execution_count": 3,
     "metadata": {},
     "output_type": "execute_result"
    }
   ],
   "source": [
    "df_train = df.iloc[:170].copy()\n",
    "df_test = df.iloc[170:].copy()\n",
    "df_train.shape, df_test.shape"
   ]
  },
  {
   "cell_type": "code",
   "execution_count": 4,
   "metadata": {
    "colab": {
     "base_uri": "https://localhost:8080/",
     "height": 210
    },
    "executionInfo": {
     "elapsed": 15,
     "status": "ok",
     "timestamp": 1746643793938,
     "user": {
      "displayName": "YuJie Li",
      "userId": "03390522068803415481"
     },
     "user_tz": -120
    },
    "id": "QW_KWk_OXRPo",
    "outputId": "b17f2ea0-9a9c-4e32-d316-b387f9f29f58"
   },
   "outputs": [
    {
     "data": {
      "text/html": [
       "<div>\n",
       "<style scoped>\n",
       "    .dataframe tbody tr th:only-of-type {\n",
       "        vertical-align: middle;\n",
       "    }\n",
       "\n",
       "    .dataframe tbody tr th {\n",
       "        vertical-align: top;\n",
       "    }\n",
       "\n",
       "    .dataframe thead th {\n",
       "        text-align: right;\n",
       "    }\n",
       "</style>\n",
       "<table border=\"1\" class=\"dataframe\">\n",
       "  <thead>\n",
       "    <tr style=\"text-align: right;\">\n",
       "      <th></th>\n",
       "      <th>count</th>\n",
       "    </tr>\n",
       "    <tr>\n",
       "      <th>label</th>\n",
       "      <th></th>\n",
       "    </tr>\n",
       "  </thead>\n",
       "  <tbody>\n",
       "    <tr>\n",
       "      <th>0.0</th>\n",
       "      <td>91</td>\n",
       "    </tr>\n",
       "    <tr>\n",
       "      <th>1.0</th>\n",
       "      <td>55</td>\n",
       "    </tr>\n",
       "    <tr>\n",
       "      <th>2.0</th>\n",
       "      <td>24</td>\n",
       "    </tr>\n",
       "  </tbody>\n",
       "</table>\n",
       "</div><br><label><b>dtype:</b> int64</label>"
      ],
      "text/plain": [
       "label\n",
       "0.0    91\n",
       "1.0    55\n",
       "2.0    24\n",
       "Name: count, dtype: int64"
      ]
     },
     "execution_count": 4,
     "metadata": {},
     "output_type": "execute_result"
    }
   ],
   "source": [
    "df_train[\"label\"].value_counts()"
   ]
  },
  {
   "cell_type": "markdown",
   "metadata": {},
   "source": [
    "Change parameter: vectorizer = TfidfVectorizer(max_features=-, ngram_range=(1, -)), choose which one is the best"
   ]
  },
  {
   "cell_type": "code",
   "execution_count": null,
   "metadata": {
    "colab": {
     "base_uri": "https://localhost:8080/"
    },
    "collapsed": true,
    "executionInfo": {
     "elapsed": 95638,
     "status": "ok",
     "timestamp": 1746649076632,
     "user": {
      "displayName": "YuJie Li",
      "userId": "03390522068803415481"
     },
     "user_tz": -120
    },
    "id": "woLO8DhUtqMD",
    "outputId": "1f0b9274-fda5-4036-eb24-d8fbd756e9d5"
   },
   "outputs": [
    {
     "name": "stderr",
     "output_type": "stream",
     "text": [
      "[nltk_data] Downloading package stopwords to /root/nltk_data...\n",
      "[nltk_data]   Package stopwords is already up-to-date!\n"
     ]
    },
    {
     "name": "stdout",
     "output_type": "stream",
     "text": [
      "              precision    recall  f1-score   support\n",
      "\n",
      "         0.0     0.7500    0.9560    0.8406        91\n",
      "         1.0     0.9420    0.7143    0.8125        91\n",
      "         2.0     1.0000    0.9670    0.9832        91\n",
      "\n",
      "    accuracy                         0.8791       273\n",
      "   macro avg     0.8973    0.8791    0.8788       273\n",
      "weighted avg     0.8973    0.8791    0.8788       273\n",
      "\n"
     ]
    }
   ],
   "source": [
    "import pandas as pd\n",
    "from sklearn.model_selection import StratifiedKFold, GridSearchCV\n",
    "from sklearn.feature_extraction.text import TfidfVectorizer\n",
    "from sklearn.linear_model import LogisticRegression\n",
    "from sklearn.svm import SVC\n",
    "from lightgbm import LGBMClassifier\n",
    "from sklearn.ensemble import VotingClassifier\n",
    "from sklearn.metrics import classification_report\n",
    "from imblearn.over_sampling import SMOTE\n",
    "from sklearn.model_selection import StratifiedKFold\n",
    "import nltk\n",
    "import spacy\n",
    "\n",
    "nltk.download('stopwords')\n",
    "from nltk.corpus import stopwords\n",
    "\n",
    "nlp = spacy.load('en_core_web_sm')\n",
    "\n",
    "df_train = df.iloc[:170].copy()\n",
    "df_unlabeled = df.iloc[170:].copy()\n",
    "\n",
    "def preprocess_text(text):\n",
    "    text = text.lower()\n",
    "    text = ''.join([char for char in text if char.isalpha() or char.isspace()])\n",
    "    stop_words = set(stopwords.words('english'))\n",
    "    doc = nlp(text)\n",
    "    text = ' '.join([token.lemma_ for token in doc if token.text not in stop_words])\n",
    "\n",
    "    return text\n",
    "df_train['processed_text'] = df_train['text'].apply(preprocess_text)\n",
    "df_unlabeled['processed_text'] = df_unlabeled['text'].apply(preprocess_text)\n",
    "X = df_train['processed_text']\n",
    "y = df_train['label']\n",
    "\n",
    "vectorizer = TfidfVectorizer(max_features=10000, ngram_range=(1, 3))\n",
    "X_tfidf = vectorizer.fit_transform(X)\n",
    "\n",
    "smote = SMOTE(sampling_strategy='auto', random_state=42)\n",
    "X_resampled, y_resampled = smote.fit_resample(X_tfidf, y)\n",
    "\n",
    "logreg = LogisticRegression(max_iter=1000)\n",
    "svm = SVC(kernel='linear', random_state=42, probability=True)  # SVM with probability enabled\n",
    "\n",
    "param_grid_logreg = {'C': [0.1, 1, 10], 'solver': ['liblinear', 'saga']}\n",
    "grid_search_logreg = GridSearchCV(logreg, param_grid_logreg, cv=5, n_jobs=-1)\n",
    "grid_search_logreg.fit(X_resampled, y_resampled)\n",
    "best_logreg = grid_search_logreg.best_estimator_\n",
    "\n",
    "param_grid_svm = {'C': [0.1, 1, 10], 'kernel': ['linear', 'rbf'], 'gamma': ['scale', 'auto']}\n",
    "grid_search_svm = GridSearchCV(svm, param_grid_svm, cv=5, n_jobs=-1)\n",
    "grid_search_svm.fit(X_resampled, y_resampled)\n",
    "best_svm = grid_search_svm.best_estimator_\n",
    "\n",
    "voting_clf1 = VotingClassifier(estimators=[('logreg', best_logreg), ('svm', best_svm)], voting='soft')\n",
    "\n",
    "voting_clf1.fit(X_resampled, y_resampled)\n",
    "skf = StratifiedKFold(n_splits=5, shuffle=True, random_state=42)\n",
    "\n",
    "val_preds, val_true = [], []\n",
    "\n",
    "for train_idx, val_idx in skf.split(X_resampled, y_resampled):\n",
    "    X_train, X_val = X_resampled[train_idx], X_resampled[val_idx]\n",
    "    y_train, y_val = y_resampled.iloc[train_idx], y_resampled.iloc[val_idx]\n",
    "\n",
    "    voting_clf1.fit(X_train, y_train)\n",
    "    preds = voting_clf1.predict(X_val)\n",
    "\n",
    "    val_preds.extend(preds)\n",
    "    val_true.extend(y_val)\n",
    "\n",
    "print(classification_report(val_true, val_preds, digits=4))\n",
    "\n",
    "X_unlabeled_tfidf = vectorizer.transform(df_unlabeled['processed_text'])\n",
    "\n",
    "probs = voting_clf1.predict_proba(X_unlabeled_tfidf)  # shape: [n_samples, n_classes]\n",
    "\n",
    "confidences = probs.max(axis=1)\n",
    "\n",
    "preds = voting_clf1.predict(X_unlabeled_tfidf)\n",
    "\n",
    "df_unlabeled['pseudo_label'] = preds\n",
    "df_unlabeled['confidence'] = confidences"
   ]
  },
  {
   "cell_type": "code",
   "execution_count": 25,
   "metadata": {
    "colab": {
     "base_uri": "https://localhost:8080/"
    },
    "executionInfo": {
     "elapsed": 8,
     "status": "ok",
     "timestamp": 1746649085765,
     "user": {
      "displayName": "YuJie Li",
      "userId": "03390522068803415481"
     },
     "user_tz": -120
    },
    "id": "VsiaCNvauE-7",
    "outputId": "8f25a247-c737-4373-cb6a-8eb0db8549c2"
   },
   "outputs": [
    {
     "name": "stdout",
     "output_type": "stream",
     "text": [
      "\n",
      "Number of pseudo-labeled samples with confidence greater than 0.7: 168 / 787\n",
      "\n",
      "Number of pseudo-labeled samples with confidence less than or equal to 0.5: 222 / 787\n"
     ]
    }
   ],
   "source": [
    "high_conf_df = df_unlabeled[df_unlabeled['confidence'] >= 0.7]\n",
    "low_conf_df = df_unlabeled[df_unlabeled['confidence'] <= 0.5]\n",
    "print(f\"\\nNumber of pseudo-labeled samples with confidence greater than 0.7: {len(high_conf_df)} / {len(df_unlabeled)}\")\n",
    "print(f\"\\nNumber of pseudo-labeled samples with confidence less than or equal to 0.5: {len(low_conf_df)} / {len(df_unlabeled)}\")"
   ]
  },
  {
   "cell_type": "code",
   "execution_count": null,
   "metadata": {
    "colab": {
     "base_uri": "https://localhost:8080/"
    },
    "executionInfo": {
     "elapsed": 117447,
     "status": "ok",
     "timestamp": 1746649244285,
     "user": {
      "displayName": "YuJie Li",
      "userId": "03390522068803415481"
     },
     "user_tz": -120
    },
    "id": "5LRMmp25N4CU",
    "outputId": "42f8de96-eee3-4004-fc7d-e85514e1f169"
   },
   "outputs": [
    {
     "name": "stderr",
     "output_type": "stream",
     "text": [
      "[nltk_data] Downloading package stopwords to /root/nltk_data...\n",
      "[nltk_data]   Package stopwords is already up-to-date!\n"
     ]
    },
    {
     "name": "stdout",
     "output_type": "stream",
     "text": [
      "              precision    recall  f1-score   support\n",
      "\n",
      "         0.0     0.7944    0.9341    0.8586        91\n",
      "         1.0     0.9221    0.7802    0.8452        91\n",
      "         2.0     1.0000    0.9780    0.9889        91\n",
      "\n",
      "    accuracy                         0.8974       273\n",
      "   macro avg     0.9055    0.8974    0.8976       273\n",
      "weighted avg     0.9055    0.8974    0.8976       273\n",
      "\n"
     ]
    }
   ],
   "source": [
    "import pandas as pd\n",
    "from sklearn.model_selection import StratifiedKFold, GridSearchCV\n",
    "from sklearn.feature_extraction.text import TfidfVectorizer\n",
    "from sklearn.linear_model import LogisticRegression\n",
    "from sklearn.svm import SVC\n",
    "from lightgbm import LGBMClassifier\n",
    "from sklearn.ensemble import VotingClassifier\n",
    "from sklearn.metrics import classification_report\n",
    "from imblearn.over_sampling import SMOTE\n",
    "from sklearn.model_selection import StratifiedKFold\n",
    "import nltk\n",
    "import spacy\n",
    "\n",
    "nltk.download('stopwords')\n",
    "from nltk.corpus import stopwords\n",
    "\n",
    "nlp = spacy.load('en_core_web_sm')\n",
    "\n",
    "df_train = df.iloc[:170].copy()\n",
    "df_unlabeled = df.iloc[170:].copy()\n",
    "\n",
    "def preprocess_text(text):\n",
    "    text = text.lower()\n",
    "    text = ''.join([char for char in text if char.isalpha() or char.isspace()])\n",
    "    stop_words = set(stopwords.words('english'))\n",
    "    doc = nlp(text)\n",
    "    text = ' '.join([token.lemma_ for token in doc if token.text not in stop_words])\n",
    "\n",
    "    return text\n",
    "\n",
    "df_train['processed_text'] = df_train['text'].apply(preprocess_text)\n",
    "df_unlabeled['processed_text'] = df_unlabeled['text'].apply(preprocess_text)\n",
    "\n",
    "X = df_train['processed_text']\n",
    "y = df_train['label']\n",
    "\n",
    "vectorizer = TfidfVectorizer(max_features=10000, ngram_range=(1, 2))  \n",
    "X_tfidf = vectorizer.fit_transform(X)\n",
    "\n",
    "smote = SMOTE(sampling_strategy='auto', random_state=42)\n",
    "X_resampled, y_resampled = smote.fit_resample(X_tfidf, y)\n",
    "\n",
    "logreg = LogisticRegression(max_iter=1000)\n",
    "svm = SVC(kernel='linear', random_state=42, probability=True)  # SVM with probability enabled\n",
    "\n",
    "param_grid_logreg = {'C': [0.1, 1, 10], 'solver': ['liblinear', 'saga']}\n",
    "grid_search_logreg = GridSearchCV(logreg, param_grid_logreg, cv=5, n_jobs=-1)\n",
    "grid_search_logreg.fit(X_resampled, y_resampled)\n",
    "best_logreg = grid_search_logreg.best_estimator_\n",
    "\n",
    "param_grid_svm = {'C': [0.1, 1, 10], 'kernel': ['linear', 'rbf'], 'gamma': ['scale', 'auto']}\n",
    "grid_search_svm = GridSearchCV(svm, param_grid_svm, cv=5, n_jobs=-1)\n",
    "grid_search_svm.fit(X_resampled, y_resampled)\n",
    "best_svm = grid_search_svm.best_estimator_\n",
    "\n",
    "voting_clf1 = VotingClassifier(estimators=[('logreg', best_logreg), ('svm', best_svm)], voting='soft')\n",
    "\n",
    "voting_clf1.fit(X_resampled, y_resampled)\n",
    "\n",
    "skf = StratifiedKFold(n_splits=5, shuffle=True, random_state=42)\n",
    "\n",
    "val_preds, val_true = [], []\n",
    "\n",
    "for train_idx, val_idx in skf.split(X_resampled, y_resampled):\n",
    "    X_train, X_val = X_resampled[train_idx], X_resampled[val_idx]\n",
    "    y_train, y_val = y_resampled.iloc[train_idx], y_resampled.iloc[val_idx]\n",
    "\n",
    "    voting_clf1.fit(X_train, y_train)\n",
    "    preds = voting_clf1.predict(X_val)\n",
    "\n",
    "    val_preds.extend(preds)\n",
    "    val_true.extend(y_val)\n",
    "\n",
    "print(classification_report(val_true, val_preds, digits=4))\n",
    "\n",
    "X_unlabeled_tfidf = vectorizer.transform(df_unlabeled['processed_text'])\n",
    "\n",
    "probs = voting_clf1.predict_proba(X_unlabeled_tfidf)  # shape: [n_samples, n_classes]\n",
    "\n",
    "confidences = probs.max(axis=1)\n",
    "\n",
    "preds = voting_clf1.predict(X_unlabeled_tfidf)\n",
    "\n",
    "df_unlabeled['pseudo_label1'] = preds\n",
    "df_unlabeled['confidence1'] = confidences"
   ]
  },
  {
   "cell_type": "code",
   "execution_count": 27,
   "metadata": {
    "colab": {
     "base_uri": "https://localhost:8080/"
    },
    "executionInfo": {
     "elapsed": 2,
     "status": "ok",
     "timestamp": 1746649252347,
     "user": {
      "displayName": "YuJie Li",
      "userId": "03390522068803415481"
     },
     "user_tz": -120
    },
    "id": "H1nl12ZhN4Em",
    "outputId": "b070f9b8-4776-4386-a192-58e20b76a00e"
   },
   "outputs": [
    {
     "name": "stdout",
     "output_type": "stream",
     "text": [
      "\n",
      "Number of pseudo-labeled samples with confidence greater than 0.7: 246 / 787\n",
      "\n",
      "Number of pseudo-labeled samples with confidence less than or equal to 0.5: 177 / 787\n"
     ]
    }
   ],
   "source": [
    "high_conf_df1 = df_unlabeled[df_unlabeled['confidence1'] >= 0.7]\n",
    "low_conf_df1 = df_unlabeled[df_unlabeled['confidence1'] <= 0.5]\n",
    "print(f\"\\nNumber of pseudo-labeled samples with confidence greater than 0.7: {len(high_conf_df1)} / {len(df_unlabeled)}\")\n",
    "print(f\"\\nNumber of pseudo-labeled samples with confidence less than or equal to 0.5: {len(low_conf_df1)} / {len(df_unlabeled)}\")"
   ]
  },
  {
   "cell_type": "code",
   "execution_count": null,
   "metadata": {
    "colab": {
     "base_uri": "https://localhost:8080/"
    },
    "executionInfo": {
     "elapsed": 92808,
     "status": "ok",
     "timestamp": 1746649375037,
     "user": {
      "displayName": "YuJie Li",
      "userId": "03390522068803415481"
     },
     "user_tz": -120
    },
    "id": "1ZBOfrO1N4HX",
    "outputId": "5aa5e152-0526-4d36-bd3c-7b49e6f8e603"
   },
   "outputs": [
    {
     "name": "stderr",
     "output_type": "stream",
     "text": [
      "[nltk_data] Downloading package stopwords to /root/nltk_data...\n",
      "[nltk_data]   Package stopwords is already up-to-date!\n"
     ]
    },
    {
     "name": "stdout",
     "output_type": "stream",
     "text": [
      "              precision    recall  f1-score   support\n",
      "\n",
      "         0.0     0.7959    0.8571    0.8254        91\n",
      "         1.0     0.8506    0.8132    0.8315        91\n",
      "         2.0     1.0000    0.9670    0.9832        91\n",
      "\n",
      "    accuracy                         0.8791       273\n",
      "   macro avg     0.8822    0.8791    0.8800       273\n",
      "weighted avg     0.8822    0.8791    0.8800       273\n",
      "\n"
     ]
    }
   ],
   "source": [
    "import pandas as pd\n",
    "from sklearn.model_selection import StratifiedKFold, GridSearchCV\n",
    "from sklearn.feature_extraction.text import TfidfVectorizer\n",
    "from sklearn.linear_model import LogisticRegression\n",
    "from sklearn.svm import SVC\n",
    "from lightgbm import LGBMClassifier\n",
    "from sklearn.ensemble import VotingClassifier\n",
    "from sklearn.metrics import classification_report\n",
    "from imblearn.over_sampling import SMOTE\n",
    "from sklearn.model_selection import StratifiedKFold\n",
    "import nltk\n",
    "import spacy\n",
    "\n",
    "\n",
    "nltk.download('stopwords')\n",
    "from nltk.corpus import stopwords\n",
    "\n",
    "\n",
    "nlp = spacy.load('en_core_web_sm')\n",
    "\n",
    "\n",
    "df_train = df.iloc[:170].copy()\n",
    "df_unlabeled = df.iloc[170:].copy()\n",
    "\n",
    "\n",
    "def preprocess_text(text):\n",
    "    text = text.lower()\n",
    "    text = ''.join([char for char in text if char.isalpha() or char.isspace()])\n",
    "    stop_words = set(stopwords.words('english'))\n",
    "    doc = nlp(text)\n",
    "    text = ' '.join([token.lemma_ for token in doc if token.text not in stop_words])\n",
    "\n",
    "    return text\n",
    "\n",
    "df_train['processed_text'] = df_train['text'].apply(preprocess_text)\n",
    "df_unlabeled['processed_text'] = df_unlabeled['text'].apply(preprocess_text)\n",
    "\n",
    "X = df_train['processed_text']\n",
    "y = df_train['label']\n",
    "\n",
    "vectorizer = TfidfVectorizer(max_features=10000, ngram_range=(1, 1))\n",
    "X_tfidf = vectorizer.fit_transform(X)\n",
    "\n",
    "smote = SMOTE(sampling_strategy='auto', random_state=42)\n",
    "X_resampled, y_resampled = smote.fit_resample(X_tfidf, y)\n",
    "\n",
    "logreg = LogisticRegression(max_iter=1000)\n",
    "svm = SVC(kernel='linear', random_state=42, probability=True)  # SVM with probability enabled\n",
    "\n",
    "param_grid_logreg = {'C': [0.1, 1, 10], 'solver': ['liblinear', 'saga']}\n",
    "grid_search_logreg = GridSearchCV(logreg, param_grid_logreg, cv=5, n_jobs=-1)\n",
    "grid_search_logreg.fit(X_resampled, y_resampled)\n",
    "best_logreg = grid_search_logreg.best_estimator_\n",
    "param_grid_svm = {'C': [0.1, 1, 10], 'kernel': ['linear', 'rbf'], 'gamma': ['scale', 'auto']}\n",
    "grid_search_svm = GridSearchCV(svm, param_grid_svm, cv=5, n_jobs=-1)\n",
    "grid_search_svm.fit(X_resampled, y_resampled)\n",
    "best_svm = grid_search_svm.best_estimator_\n",
    "voting_clf1 = VotingClassifier(estimators=[('logreg', best_logreg), ('svm', best_svm)], voting='soft')\n",
    "\n",
    "voting_clf1.fit(X_resampled, y_resampled)\n",
    "\n",
    "skf = StratifiedKFold(n_splits=5, shuffle=True, random_state=42)\n",
    "\n",
    "val_preds, val_true = [], []\n",
    "\n",
    "for train_idx, val_idx in skf.split(X_resampled, y_resampled):\n",
    "    X_train, X_val = X_resampled[train_idx], X_resampled[val_idx]\n",
    "    y_train, y_val = y_resampled.iloc[train_idx], y_resampled.iloc[val_idx]\n",
    "\n",
    "    voting_clf1.fit(X_train, y_train)\n",
    "    preds = voting_clf1.predict(X_val)\n",
    "\n",
    "    val_preds.extend(preds)\n",
    "    val_true.extend(y_val)\n",
    "\n",
    "print(classification_report(val_true, val_preds, digits=4))\n",
    "\n",
    "X_unlabeled_tfidf = vectorizer.transform(df_unlabeled['processed_text'])\n",
    "\n",
    "probs = voting_clf1.predict_proba(X_unlabeled_tfidf)  # shape: [n_samples, n_classes]\n",
    "\n",
    "confidences = probs.max(axis=1)\n",
    "\n",
    "preds = voting_clf1.predict(X_unlabeled_tfidf)\n",
    "\n",
    "df_unlabeled['pseudo_label2'] = preds\n",
    "df_unlabeled['confidence2'] = confidences"
   ]
  },
  {
   "cell_type": "code",
   "execution_count": 29,
   "metadata": {
    "colab": {
     "base_uri": "https://localhost:8080/"
    },
    "executionInfo": {
     "elapsed": 42,
     "status": "ok",
     "timestamp": 1746649402842,
     "user": {
      "displayName": "YuJie Li",
      "userId": "03390522068803415481"
     },
     "user_tz": -120
    },
    "id": "UuWPwrSHN4J5",
    "outputId": "bc5c51fc-d264-498d-9ca7-83918ecb38a3"
   },
   "outputs": [
    {
     "name": "stdout",
     "output_type": "stream",
     "text": [
      "\n",
      "Number of pseudo-labeled samples with confidence greater than 0.7: 332 / 787\n",
      "\n",
      "Number of pseudo-labeled samples with confidence less than or equal to 0.5: 145 / 787\n"
     ]
    }
   ],
   "source": [
    "high_conf_df2 = df_unlabeled[df_unlabeled['confidence2'] >= 0.7]\n",
    "low_conf_df2 = df_unlabeled[df_unlabeled['confidence2'] <= 0.5]\n",
    "print(f\"\\nNumber of pseudo-labeled samples with confidence greater than 0.7: {len(high_conf_df2)} / {len(df_unlabeled)}\")\n",
    "print(f\"\\nNumber of pseudo-labeled samples with confidence less than or equal to 0.5: {len(low_conf_df2)} / {len(df_unlabeled)}\")"
   ]
  },
  {
   "cell_type": "code",
   "execution_count": null,
   "metadata": {
    "colab": {
     "base_uri": "https://localhost:8080/"
    },
    "executionInfo": {
     "elapsed": 87261,
     "status": "ok",
     "timestamp": 1746649669371,
     "user": {
      "displayName": "YuJie Li",
      "userId": "03390522068803415481"
     },
     "user_tz": -120
    },
    "id": "y-WzENHNN4PX",
    "outputId": "a7fdf257-884f-40bf-8dd1-63c456fc4917"
   },
   "outputs": [
    {
     "name": "stderr",
     "output_type": "stream",
     "text": [
      "[nltk_data] Downloading package stopwords to /root/nltk_data...\n",
      "[nltk_data]   Package stopwords is already up-to-date!\n"
     ]
    },
    {
     "name": "stdout",
     "output_type": "stream",
     "text": [
      "              precision    recall  f1-score   support\n",
      "\n",
      "         0.0     0.7925    0.9231    0.8528        91\n",
      "         1.0     0.9103    0.7802    0.8402        91\n",
      "         2.0     1.0000    0.9780    0.9889        91\n",
      "\n",
      "    accuracy                         0.8938       273\n",
      "   macro avg     0.9009    0.8938    0.8940       273\n",
      "weighted avg     0.9009    0.8938    0.8940       273\n",
      "\n"
     ]
    }
   ],
   "source": [
    "import pandas as pd\n",
    "from sklearn.model_selection import StratifiedKFold, GridSearchCV\n",
    "from sklearn.feature_extraction.text import TfidfVectorizer\n",
    "from sklearn.linear_model import LogisticRegression\n",
    "from sklearn.svm import SVC\n",
    "from lightgbm import LGBMClassifier\n",
    "from sklearn.ensemble import VotingClassifier\n",
    "from sklearn.metrics import classification_report\n",
    "from imblearn.over_sampling import SMOTE\n",
    "from sklearn.model_selection import StratifiedKFold\n",
    "import nltk\n",
    "import spacy\n",
    "\n",
    "nltk.download('stopwords')\n",
    "from nltk.corpus import stopwords\n",
    "\n",
    "nlp = spacy.load('en_core_web_sm')\n",
    "\n",
    "df_train = df.iloc[:170].copy()\n",
    "df_unlabeled = df.iloc[170:].copy()\n",
    "\n",
    "def preprocess_text(text):\n",
    "\n",
    "    text = text.lower()\n",
    "\n",
    "    text = ''.join([char for char in text if char.isalpha() or char.isspace()])\n",
    "\n",
    "    stop_words = set(stopwords.words('english'))\n",
    "    doc = nlp(text)\n",
    "    text = ' '.join([token.lemma_ for token in doc if token.text not in stop_words])\n",
    "\n",
    "    return text\n",
    "\n",
    "df_train['processed_text'] = df_train['text'].apply(preprocess_text)\n",
    "df_unlabeled['processed_text'] = df_unlabeled['text'].apply(preprocess_text)\n",
    "\n",
    "X = df_train['processed_text']\n",
    "y = df_train['label']\n",
    "\n",
    "vectorizer = TfidfVectorizer(max_features=5000, ngram_range=(1, 2))  # 增加n-grams范围\n",
    "X_tfidf = vectorizer.fit_transform(X)\n",
    "\n",
    "smote = SMOTE(sampling_strategy='auto', random_state=42)\n",
    "X_resampled, y_resampled = smote.fit_resample(X_tfidf, y)\n",
    "\n",
    "logreg = LogisticRegression(max_iter=1000)\n",
    "svm = SVC(kernel='linear', random_state=42, probability=True)  # SVM with probability enabled\n",
    "\n",
    "param_grid_logreg = {'C': [0.1, 1, 10], 'solver': ['liblinear', 'saga']}\n",
    "grid_search_logreg = GridSearchCV(logreg, param_grid_logreg, cv=5, n_jobs=-1)\n",
    "grid_search_logreg.fit(X_resampled, y_resampled)\n",
    "best_logreg = grid_search_logreg.best_estimator_\n",
    "\n",
    "param_grid_svm = {'C': [0.1, 1, 10], 'kernel': ['linear', 'rbf'], 'gamma': ['scale', 'auto']}\n",
    "grid_search_svm = GridSearchCV(svm, param_grid_svm, cv=5, n_jobs=-1)\n",
    "grid_search_svm.fit(X_resampled, y_resampled)\n",
    "best_svm = grid_search_svm.best_estimator_\n",
    "\n",
    "voting_clf1 = VotingClassifier(estimators=[('logreg', best_logreg), ('svm', best_svm)], voting='soft')\n",
    "\n",
    "voting_clf1.fit(X_resampled, y_resampled)\n",
    "\n",
    "skf = StratifiedKFold(n_splits=5, shuffle=True, random_state=42)\n",
    "\n",
    "val_preds, val_true = [], []\n",
    "\n",
    "for train_idx, val_idx in skf.split(X_resampled, y_resampled):\n",
    "    X_train, X_val = X_resampled[train_idx], X_resampled[val_idx]\n",
    "    y_train, y_val = y_resampled.iloc[train_idx], y_resampled.iloc[val_idx]\n",
    "\n",
    "    voting_clf1.fit(X_train, y_train)\n",
    "    preds = voting_clf1.predict(X_val)\n",
    "\n",
    "    val_preds.extend(preds)\n",
    "    val_true.extend(y_val)\n",
    "\n",
    "print(classification_report(val_true, val_preds, digits=4))\n",
    "\n",
    "X_unlabeled_tfidf = vectorizer.transform(df_unlabeled['processed_text'])\n",
    "\n",
    "probs = voting_clf1.predict_proba(X_unlabeled_tfidf)  # shape: [n_samples, n_classes]\n",
    "\n",
    "confidences = probs.max(axis=1)\n",
    "\n",
    "preds = voting_clf1.predict(X_unlabeled_tfidf)\n",
    "\n",
    "df_unlabeled['pseudo_label3'] = preds\n",
    "df_unlabeled['confidence3'] = confidences"
   ]
  },
  {
   "cell_type": "code",
   "execution_count": 31,
   "metadata": {
    "colab": {
     "base_uri": "https://localhost:8080/"
    },
    "executionInfo": {
     "elapsed": 7,
     "status": "ok",
     "timestamp": 1746649675313,
     "user": {
      "displayName": "YuJie Li",
      "userId": "03390522068803415481"
     },
     "user_tz": -120
    },
    "id": "iEFqGvlVxUsQ",
    "outputId": "34524a94-987a-499b-953f-9f768a444bda"
   },
   "outputs": [
    {
     "name": "stdout",
     "output_type": "stream",
     "text": [
      "\n",
      "Number of pseudo-labeled samples with confidence greater than 0.7: 261 / 787\n",
      "\n",
      "Number of pseudo-labeled samples with confidence less than or equal to 0.5: 153 / 787\n"
     ]
    }
   ],
   "source": [
    "high_conf_df2 = df_unlabeled[df_unlabeled['confidence3'] >= 0.7]\n",
    "low_conf_df2 = df_unlabeled[df_unlabeled['confidence3'] <= 0.5]\n",
    "print(f\"\\nNumber of pseudo-labeled samples with confidence greater than 0.7: {len(high_conf_df2)} / {len(df_unlabeled)}\")\n",
    "print(f\"\\nNumber of pseudo-labeled samples with confidence less than or equal to 0.5: {len(low_conf_df2)} / {len(df_unlabeled)}\")"
   ]
  }
 ],
 "metadata": {
  "colab": {
   "authorship_tag": "ABX9TyNngNkvvCfVvYwwAWZYD4yo",
   "provenance": []
  },
  "kernelspec": {
   "display_name": "venv",
   "language": "python",
   "name": "python3"
  },
  "language_info": {
   "codemirror_mode": {
    "name": "ipython",
    "version": 3
   },
   "file_extension": ".py",
   "mimetype": "text/x-python",
   "name": "python",
   "nbconvert_exporter": "python",
   "pygments_lexer": "ipython3",
   "version": "3.12.3"
  }
 },
 "nbformat": 4,
 "nbformat_minor": 0
}
