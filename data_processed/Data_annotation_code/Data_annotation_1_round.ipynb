{
 "cells": [
  {
   "cell_type": "code",
   "execution_count": 9,
   "metadata": {
    "colab": {
     "base_uri": "https://localhost:8080/",
     "height": 71
    },
    "collapsed": true,
    "executionInfo": {
     "elapsed": 95,
     "status": "ok",
     "timestamp": 1746699381441,
     "user": {
      "displayName": "YuJie Li",
      "userId": "03390522068803415481"
     },
     "user_tz": -120
    },
    "id": "44oQ09Z-TSif",
    "outputId": "864d15fa-7d4e-448a-a1d6-74ee9cf15ec6"
   },
   "outputs": [
    {
     "name": "stdout",
     "output_type": "stream",
     "text": [
      "total 0 duplicate_texts\n"
     ]
    },
    {
     "data": {
      "application/vnd.google.colaboratory.intrinsic+json": {
       "repr_error": "Out of range float values are not JSON compliant: nan",
       "type": "dataframe"
      },
      "text/html": [
       "\n",
       "  <div id=\"df-2818ca82-241f-4a5a-9883-c4acbf6c468e\" class=\"colab-df-container\">\n",
       "    <div>\n",
       "<style scoped>\n",
       "    .dataframe tbody tr th:only-of-type {\n",
       "        vertical-align: middle;\n",
       "    }\n",
       "\n",
       "    .dataframe tbody tr th {\n",
       "        vertical-align: top;\n",
       "    }\n",
       "\n",
       "    .dataframe thead th {\n",
       "        text-align: right;\n",
       "    }\n",
       "</style>\n",
       "<table border=\"1\" class=\"dataframe\">\n",
       "  <thead>\n",
       "    <tr style=\"text-align: right;\">\n",
       "      <th></th>\n",
       "      <th>text</th>\n",
       "      <th>label</th>\n",
       "    </tr>\n",
       "  </thead>\n",
       "  <tbody>\n",
       "  </tbody>\n",
       "</table>\n",
       "</div>\n",
       "    <div class=\"colab-df-buttons\">\n",
       "\n",
       "  <div class=\"colab-df-container\">\n",
       "    <button class=\"colab-df-convert\" onclick=\"convertToInteractive('df-2818ca82-241f-4a5a-9883-c4acbf6c468e')\"\n",
       "            title=\"Convert this dataframe to an interactive table.\"\n",
       "            style=\"display:none;\">\n",
       "\n",
       "  <svg xmlns=\"http://www.w3.org/2000/svg\" height=\"24px\" viewBox=\"0 -960 960 960\">\n",
       "    <path d=\"M120-120v-720h720v720H120Zm60-500h600v-160H180v160Zm220 220h160v-160H400v160Zm0 220h160v-160H400v160ZM180-400h160v-160H180v160Zm440 0h160v-160H620v160ZM180-180h160v-160H180v160Zm440 0h160v-160H620v160Z\"/>\n",
       "  </svg>\n",
       "    </button>\n",
       "\n",
       "  <style>\n",
       "    .colab-df-container {\n",
       "      display:flex;\n",
       "      gap: 12px;\n",
       "    }\n",
       "\n",
       "    .colab-df-convert {\n",
       "      background-color: #E8F0FE;\n",
       "      border: none;\n",
       "      border-radius: 50%;\n",
       "      cursor: pointer;\n",
       "      display: none;\n",
       "      fill: #1967D2;\n",
       "      height: 32px;\n",
       "      padding: 0 0 0 0;\n",
       "      width: 32px;\n",
       "    }\n",
       "\n",
       "    .colab-df-convert:hover {\n",
       "      background-color: #E2EBFA;\n",
       "      box-shadow: 0px 1px 2px rgba(60, 64, 67, 0.3), 0px 1px 3px 1px rgba(60, 64, 67, 0.15);\n",
       "      fill: #174EA6;\n",
       "    }\n",
       "\n",
       "    .colab-df-buttons div {\n",
       "      margin-bottom: 4px;\n",
       "    }\n",
       "\n",
       "    [theme=dark] .colab-df-convert {\n",
       "      background-color: #3B4455;\n",
       "      fill: #D2E3FC;\n",
       "    }\n",
       "\n",
       "    [theme=dark] .colab-df-convert:hover {\n",
       "      background-color: #434B5C;\n",
       "      box-shadow: 0px 1px 3px 1px rgba(0, 0, 0, 0.15);\n",
       "      filter: drop-shadow(0px 1px 2px rgba(0, 0, 0, 0.3));\n",
       "      fill: #FFFFFF;\n",
       "    }\n",
       "  </style>\n",
       "\n",
       "    <script>\n",
       "      const buttonEl =\n",
       "        document.querySelector('#df-2818ca82-241f-4a5a-9883-c4acbf6c468e button.colab-df-convert');\n",
       "      buttonEl.style.display =\n",
       "        google.colab.kernel.accessAllowed ? 'block' : 'none';\n",
       "\n",
       "      async function convertToInteractive(key) {\n",
       "        const element = document.querySelector('#df-2818ca82-241f-4a5a-9883-c4acbf6c468e');\n",
       "        const dataTable =\n",
       "          await google.colab.kernel.invokeFunction('convertToInteractive',\n",
       "                                                    [key], {});\n",
       "        if (!dataTable) return;\n",
       "\n",
       "        const docLinkHtml = 'Like what you see? Visit the ' +\n",
       "          '<a target=\"_blank\" href=https://colab.research.google.com/notebooks/data_table.ipynb>data table notebook</a>'\n",
       "          + ' to learn more about interactive tables.';\n",
       "        element.innerHTML = '';\n",
       "        dataTable['output_type'] = 'display_data';\n",
       "        await google.colab.output.renderOutput(dataTable, element);\n",
       "        const docLink = document.createElement('div');\n",
       "        docLink.innerHTML = docLinkHtml;\n",
       "        element.appendChild(docLink);\n",
       "      }\n",
       "    </script>\n",
       "  </div>\n",
       "\n",
       "\n",
       "    </div>\n",
       "  </div>\n"
      ],
      "text/plain": [
       "Empty DataFrame\n",
       "Columns: [text, label]\n",
       "Index: []"
      ]
     },
     "metadata": {},
     "output_type": "display_data"
    }
   ],
   "source": [
    "import pandas as pd\n",
    "import numpy as np\n",
    "import matplotlib.pyplot as plt\n",
    "import seaborn as sns\n",
    "import warnings\n",
    "warnings.filterwarnings('ignore')\n",
    "\n",
    "df=pd.read_csv('raw_with_170labels_version2.csv')\n",
    "df.head()\n",
    "duplicate_texts = df[df.duplicated(subset='text', keep=False)]\n",
    "\n",
    "print(f\"total {len(duplicate_texts)} duplicate_texts\")\n",
    "display(duplicate_texts.head(10))"
   ]
  },
  {
   "cell_type": "code",
   "execution_count": 10,
   "metadata": {
    "colab": {
     "base_uri": "https://localhost:8080/"
    },
    "executionInfo": {
     "elapsed": 16,
     "status": "ok",
     "timestamp": 1746699382277,
     "user": {
      "displayName": "YuJie Li",
      "userId": "03390522068803415481"
     },
     "user_tz": -120
    },
    "id": "HnAMI11pXLSc",
    "outputId": "e09e221a-ce5b-4f32-eb08-2d2d67f271b5"
   },
   "outputs": [
    {
     "data": {
      "text/plain": [
       "(957, 2)"
      ]
     },
     "execution_count": 10,
     "metadata": {},
     "output_type": "execute_result"
    }
   ],
   "source": [
    "df.shape"
   ]
  },
  {
   "cell_type": "code",
   "execution_count": 11,
   "metadata": {
    "colab": {
     "base_uri": "https://localhost:8080/"
    },
    "executionInfo": {
     "elapsed": 18,
     "status": "ok",
     "timestamp": 1746699388167,
     "user": {
      "displayName": "YuJie Li",
      "userId": "03390522068803415481"
     },
     "user_tz": -120
    },
    "id": "15O3g13_XPeD",
    "outputId": "ec25301e-e043-4151-e3e4-f315c9cc8e52"
   },
   "outputs": [
    {
     "data": {
      "text/plain": [
       "((170, 2), (787, 2))"
      ]
     },
     "execution_count": 11,
     "metadata": {},
     "output_type": "execute_result"
    }
   ],
   "source": [
    "df_train = df.iloc[:170].copy()\n",
    "df_test = df.iloc[170:].copy()\n",
    "df_train.shape, df_test.shape"
   ]
  },
  {
   "cell_type": "code",
   "execution_count": 12,
   "metadata": {
    "colab": {
     "base_uri": "https://localhost:8080/",
     "height": 210
    },
    "executionInfo": {
     "elapsed": 203,
     "status": "ok",
     "timestamp": 1746699388735,
     "user": {
      "displayName": "YuJie Li",
      "userId": "03390522068803415481"
     },
     "user_tz": -120
    },
    "id": "QW_KWk_OXRPo",
    "outputId": "f7a08abe-961b-434c-d24f-fae963cbc896"
   },
   "outputs": [
    {
     "data": {
      "text/html": [
       "<div>\n",
       "<style scoped>\n",
       "    .dataframe tbody tr th:only-of-type {\n",
       "        vertical-align: middle;\n",
       "    }\n",
       "\n",
       "    .dataframe tbody tr th {\n",
       "        vertical-align: top;\n",
       "    }\n",
       "\n",
       "    .dataframe thead th {\n",
       "        text-align: right;\n",
       "    }\n",
       "</style>\n",
       "<table border=\"1\" class=\"dataframe\">\n",
       "  <thead>\n",
       "    <tr style=\"text-align: right;\">\n",
       "      <th></th>\n",
       "      <th>count</th>\n",
       "    </tr>\n",
       "    <tr>\n",
       "      <th>label</th>\n",
       "      <th></th>\n",
       "    </tr>\n",
       "  </thead>\n",
       "  <tbody>\n",
       "    <tr>\n",
       "      <th>0.0</th>\n",
       "      <td>91</td>\n",
       "    </tr>\n",
       "    <tr>\n",
       "      <th>1.0</th>\n",
       "      <td>55</td>\n",
       "    </tr>\n",
       "    <tr>\n",
       "      <th>2.0</th>\n",
       "      <td>24</td>\n",
       "    </tr>\n",
       "  </tbody>\n",
       "</table>\n",
       "</div><br><label><b>dtype:</b> int64</label>"
      ],
      "text/plain": [
       "label\n",
       "0.0    91\n",
       "1.0    55\n",
       "2.0    24\n",
       "Name: count, dtype: int64"
      ]
     },
     "execution_count": 12,
     "metadata": {},
     "output_type": "execute_result"
    }
   ],
   "source": [
    "df_train[\"label\"].value_counts()"
   ]
  },
  {
   "cell_type": "code",
   "execution_count": null,
   "metadata": {
    "colab": {
     "base_uri": "https://localhost:8080/"
    },
    "executionInfo": {
     "elapsed": 90861,
     "status": "ok",
     "timestamp": 1746700547344,
     "user": {
      "displayName": "YuJie Li",
      "userId": "03390522068803415481"
     },
     "user_tz": -120
    },
    "id": "y-WzENHNN4PX",
    "outputId": "550319db-3289-459d-966f-1786eddd1cc1"
   },
   "outputs": [
    {
     "name": "stderr",
     "output_type": "stream",
     "text": [
      "[nltk_data] Downloading package stopwords to /root/nltk_data...\n",
      "[nltk_data]   Package stopwords is already up-to-date!\n"
     ]
    },
    {
     "name": "stdout",
     "output_type": "stream",
     "text": [
      "              precision    recall  f1-score   support\n",
      "\n",
      "         0.0     0.7925    0.9231    0.8528        91\n",
      "         1.0     0.9103    0.7802    0.8402        91\n",
      "         2.0     1.0000    0.9780    0.9889        91\n",
      "\n",
      "    accuracy                         0.8938       273\n",
      "   macro avg     0.9009    0.8938    0.8940       273\n",
      "weighted avg     0.9009    0.8938    0.8940       273\n",
      "\n",
      "                                                  text  pseudo_label  \\\n",
      "170  I’m 5 months pp with my second and I’m a singl...           1.0   \n",
      "171  I've been really struggling this first week an...           1.0   \n",
      "172  My SO intentionally missed work today to spend...           0.0   \n",
      "173  Has anyone been hospitalised in a (mbu) mother...           1.0   \n",
      "174  I’m almost 24 weeks postpartum and just really...           0.0   \n",
      "\n",
      "     confidence  \n",
      "170    0.432175  \n",
      "171    0.840869  \n",
      "172    0.463357  \n",
      "173    0.562494  \n",
      "174    0.483622  \n"
     ]
    }
   ],
   "source": [
    "import pandas as pd\n",
    "from sklearn.model_selection import StratifiedKFold, GridSearchCV\n",
    "from sklearn.feature_extraction.text import TfidfVectorizer\n",
    "from sklearn.linear_model import LogisticRegression\n",
    "from sklearn.svm import SVC\n",
    "from lightgbm import LGBMClassifier\n",
    "from sklearn.ensemble import VotingClassifier\n",
    "from sklearn.metrics import classification_report\n",
    "from imblearn.over_sampling import SMOTE\n",
    "from sklearn.model_selection import StratifiedKFold\n",
    "import nltk\n",
    "import spacy\n",
    "\n",
    "nltk.download('stopwords')\n",
    "from nltk.corpus import stopwords\n",
    "\n",
    "nlp = spacy.load('en_core_web_sm')\n",
    "\n",
    "df_train = df.iloc[:170].copy()\n",
    "df_unlabeled = df.iloc[170:].copy()\n",
    "\n",
    "def preprocess_text(text):\n",
    "    text = text.lower()\n",
    "\n",
    "    text = ''.join([char for char in text if char.isalpha() or char.isspace()])\n",
    "\n",
    "    stop_words = set(stopwords.words('english'))\n",
    "    doc = nlp(text)\n",
    "    text = ' '.join([token.lemma_ for token in doc if token.text not in stop_words])\n",
    "\n",
    "    return text\n",
    "\n",
    "df_train['processed_text'] = df_train['text'].apply(preprocess_text)\n",
    "df_unlabeled['processed_text'] = df_unlabeled['text'].apply(preprocess_text)\n",
    "\n",
    "X = df_train['processed_text']\n",
    "y = df_train['label']\n",
    "\n",
    "vectorizer = TfidfVectorizer(max_features=5000, ngram_range=(1, 2)) \n",
    "X_tfidf = vectorizer.fit_transform(X)\n",
    "\n",
    "smote = SMOTE(sampling_strategy='auto', random_state=42)\n",
    "X_resampled, y_resampled = smote.fit_resample(X_tfidf, y)\n",
    "\n",
    "logreg = LogisticRegression(max_iter=1000)\n",
    "svm = SVC(kernel='linear', random_state=42, probability=True)  # SVM with probability enabled\n",
    "\n",
    "param_grid_logreg = {'C': [0.1, 1, 10], 'solver': ['liblinear', 'saga']}\n",
    "grid_search_logreg = GridSearchCV(logreg, param_grid_logreg, cv=5, n_jobs=-1)\n",
    "grid_search_logreg.fit(X_resampled, y_resampled)\n",
    "best_logreg = grid_search_logreg.best_estimator_\n",
    "\n",
    "param_grid_svm = {'C': [0.1, 1, 10], 'kernel': ['linear', 'rbf'], 'gamma': ['scale', 'auto']}\n",
    "grid_search_svm = GridSearchCV(svm, param_grid_svm, cv=5, n_jobs=-1)\n",
    "grid_search_svm.fit(X_resampled, y_resampled)\n",
    "best_svm = grid_search_svm.best_estimator_\n",
    "\n",
    "voting_clf = VotingClassifier(estimators=[('logreg', best_logreg), ('svm', best_svm)], voting='soft')\n",
    "\n",
    "voting_clf.fit(X_resampled, y_resampled)\n",
    "\n",
    "skf = StratifiedKFold(n_splits=5, shuffle=True, random_state=42)\n",
    "\n",
    "val_preds, val_true = [], []\n",
    "\n",
    "for train_idx, val_idx in skf.split(X_resampled, y_resampled):\n",
    "    X_train, X_val = X_resampled[train_idx], X_resampled[val_idx]\n",
    "    y_train, y_val = y_resampled.iloc[train_idx], y_resampled.iloc[val_idx]\n",
    "\n",
    "    voting_clf.fit(X_train, y_train)\n",
    "    preds = voting_clf.predict(X_val)\n",
    "\n",
    "    val_preds.extend(preds)\n",
    "    val_true.extend(y_val)\n",
    "\n",
    "print(classification_report(val_true, val_preds, digits=4))\n",
    "\n",
    "X_unlabeled_tfidf = vectorizer.transform(df_unlabeled['processed_text'])\n",
    "\n",
    "probs = voting_clf.predict_proba(X_unlabeled_tfidf)  # shape: [n_samples, n_classes]\n",
    "\n",
    "confidences = probs.max(axis=1)\n",
    "\n",
    "preds = voting_clf.predict(X_unlabeled_tfidf)\n",
    "\n",
    "df_unlabeled['pseudo_label'] = preds\n",
    "df_unlabeled['confidence'] = confidences\n",
    "\n",
    "print(df_unlabeled[['text', 'pseudo_label', 'confidence']].head())"
   ]
  },
  {
   "cell_type": "code",
   "execution_count": 41,
   "metadata": {
    "colab": {
     "base_uri": "https://localhost:8080/"
    },
    "executionInfo": {
     "elapsed": 8,
     "status": "ok",
     "timestamp": 1746701589123,
     "user": {
      "displayName": "YuJie Li",
      "userId": "03390522068803415481"
     },
     "user_tz": -120
    },
    "id": "iEFqGvlVxUsQ",
    "outputId": "791c3b03-ce78-4b43-a03e-994ef845e988"
   },
   "outputs": [
    {
     "name": "stdout",
     "output_type": "stream",
     "text": [
      "\n",
      "Number of pseudo-labeled samples with confidence greater than 0.8: 119 / 787\n",
      "\n",
      "Number of pseudo-labeled samples with confidence less than or equal to 0.7: 526 / 787\n"
     ]
    }
   ],
   "source": [
    "high_conf_df = df_unlabeled[df_unlabeled['confidence'] >= 0.8]\n",
    "low_conf_df = df_unlabeled[df_unlabeled['confidence'] <= 0.7]\n",
    "print(f\"\\nNumber of pseudo-labeled samples with confidence greater than 0.8: {len(high_conf_df)} / {len(df_unlabeled)}\")\n",
    "print(f\"\\nNumber of pseudo-labeled samples with confidence less than or equal to 0.7: {len(low_conf_df)} / {len(df_unlabeled)}\")"
   ]
  },
  {
   "cell_type": "code",
   "execution_count": null,
   "metadata": {
    "colab": {
     "base_uri": "https://localhost:8080/",
     "height": 601
    },
    "executionInfo": {
     "elapsed": 1137,
     "status": "ok",
     "timestamp": 1746701570466,
     "user": {
      "displayName": "YuJie Li",
      "userId": "03390522068803415481"
     },
     "user_tz": -120
    },
    "id": "buhWmUFee9Re",
    "outputId": "2e641bfd-8eef-441c-96d1-c495135547b1"
   },
   "outputs": [
    {
     "data": {
      "image/png": "[encoded data removed]",
      "text/plain": [
       "<Figure size 1000x600 with 1 Axes>"
      ]
     },
     "metadata": {},
     "output_type": "display_data"
    }
   ],
   "source": [
    "import matplotlib.pyplot as plt\n",
    "import seaborn as sns\n",
    "\n",
    "sns.set(style='whitegrid')\n",
    "\n",
    "plt.figure(figsize=(10, 6))\n",
    "ax = sns.histplot(df_unlabeled['confidence'], bins=20, kde=True, color='skyblue')\n",
    "\n",
    "for p in ax.patches:\n",
    "    height = p.get_height()  \n",
    "    ax.text(p.get_x() + p.get_width() / 2, height, int(height),\n",
    "            ha='center', va='bottom', fontsize=10, color='black')\n",
    "\n",
    "plt.title('Confidence Score Distribution for Pseudo-Labels', fontsize=16)\n",
    "plt.xlabel('Confidence Score (Max Probability)', fontsize=14)\n",
    "plt.ylabel('Number of Samples', fontsize=14)\n",
    "plt.axvline(0.8, color='red', linestyle='--', label='Threshold = 0.8')\n",
    "plt.legend()\n",
    "plt.tight_layout()\n",
    "plt.show()\n"
   ]
  },
  {
   "cell_type": "code",
   "execution_count": 27,
   "metadata": {
    "colab": {
     "base_uri": "https://localhost:8080/",
     "height": 424
    },
    "executionInfo": {
     "elapsed": 267,
     "status": "ok",
     "timestamp": 1746700606532,
     "user": {
      "displayName": "YuJie Li",
      "userId": "03390522068803415481"
     },
     "user_tz": -120
    },
    "id": "ni2xXb3qd_Er",
    "outputId": "ce33287e-4c16-40b2-f3c1-102a10ee2438"
   },
   "outputs": [
    {
     "data": {
      "application/vnd.google.colaboratory.intrinsic+json": {
       "summary": "{\n  \"name\": \"df_unlabeled\",\n  \"rows\": 787,\n  \"fields\": [\n    {\n      \"column\": \"text\",\n      \"properties\": {\n        \"dtype\": \"string\",\n        \"num_unique_values\": 787,\n        \"samples\": [\n          \"I don\\u2019t know if I have PPD. Some days I feel like it\\u2019s hard to find myself but then I remember that I\\u2019m taking on a new role as a mom and that it\\u2019s normal to feel this way. I also feel like a lot of my sadness is coming from my life shifting  so fast. I mean of course it is, we just had a baby and now I\\u2019m a mom. But it just feels like it happened so quick. I was so use to being at my 9-5 everyday and now I\\u2019m at home with the baby everyday. Don\\u2019t get me wrong, it\\u2019s a blessing and I love being with her, but I\\u2019m feeling trapped in my home and I need to get out. My husband and I go on daily walks when he gets home from work and sometimes go to a store every now and then but I\\u2019m still not 100% comfortable with it until my baby gets her shots. I cry randomly a lot and just feel like I miss my old life & freedom. I\\u2019m really just trying to adjust to this new life as a mom and I can\\u2019t wait to find myself again. I keep telling myself that I know it\\u2019ll get better. I also breastfeed my baby and feel like that has taken a toll on me mentally as well. Especially with pumping, I am really considering switching over to formula because I think it\\u2019ll put me in a better place mentally and I need to take care of myself too so I can give my baby the best version of myself. It\\u2019s just the guilt getting to me that\\u2019s making me consider stopping. Does anyone think this would help? \",\n          \"I'll start with a little background for context. I have always dealt with some degree of anxiety (and perhaps depression) for years, often leading to bouts of insomnia before getting pregnant. The longest it would last would be maybe a month and simply just having difficulty getting to sleep. I had one week or two of insomnia while pregnant, but honestly was less anxious than usual. Flash forward to now, I'm 5 months pp and have been struggling to get a good nights rest for nearly 3 months, and (at least for the last 2 months) it's not the baby.\\n\\n\\n\\nThe first 10-12 weeks, yeah the baby made it difficult to get good rest. He was colicky and breastfeeding was going poorly. I transitioned to being an exclusive pumper and the schedule I was having to keep to try to increase my poor supply only served to mess with my sleep even more. I'd sleep fairly good for the first half of the night, but got to where when I woke up to pump in the middle of the night, I struggled to get back to sleep. I dropped the middle of the night pump early January and had initial improvement in my sleep. I'd still wake up before my alarm, only getting 1-2 hours more than I had been. Then I started having trouble getting to sleep and still waking up early. I started feeling anxious just looking at my bed. So I moved to the couch and it worked... for a bit. Then was the day I went 40 hours without sleep... I was in crisis mode and my primary doctor basically said \\\"sorry, can't help. Nothing we can prescribe you because you're breastfeeding.\\\" Thankfully, my OB was able to see me and questioned if I'm depressed/anxious because I'm not sleeping or not sleeping because I'm depressed/anxious. Honestly, I don't know which came first at this point. \\n\\n  \\nShe prescribed me Trazadone to help me sleep. And it did help. So did weaning from pumping. But my old friend insomnia still seems to be sticking around. If I don't take the Trazadone, it takes me forever to get to sleep and I still wake up early. I've been sick recently, so I've even paired it with NyQuil a few nights, which seems more effective but still not getting a full night of rest (NyQuil used to leave me drowsy the next day... apparently not anymore). Last night took me forever to get to sleep and I only slept maybe 4 hours before being woken by my husband's coughing. I just feel at a loss of what to do. I miss sleeping in bed, but just seeing it makes me anxious. The couch is making my body hurt and honestly probably contributing to my poor sleep at this point. I'm anxious about feeling like I NEED something to get to sleep rather than falling asleep like I used to, and my prescription is almost out. \\n\\n  \\nNot looking for medical advice, but hoping to hear if anyone has or is going through something similar right now. Has anything helped you to get back a semblance of normalcy? I'm scheduled to start therapy next Wednesday, but want to see if there is anything I can try in the meantime. \",\n          \"I feel like I\\u2019m trying so hard to ask for help and no one is hearing me. I\\u2019m so close to just giving up. I feel so unheard I really cannot take this anymore. Everyday is literally a struggle and the only reason I\\u2019m trying to hold on is my for my son I know he needs me. I just feel so broken.im so tired of crying. I just feel like I\\u2019m on autopilot and my baby deserves so much more\\ufffd. Pray for me. Tips or advice on how to deal with ppd\"\n        ],\n        \"semantic_type\": \"\",\n        \"description\": \"\"\n      }\n    },\n    {\n      \"column\": \"label\",\n      \"properties\": {\n        \"dtype\": \"number\",\n        \"std\": null,\n        \"min\": null,\n        \"max\": null,\n        \"num_unique_values\": 0,\n        \"samples\": [],\n        \"semantic_type\": \"\",\n        \"description\": \"\"\n      }\n    },\n    {\n      \"column\": \"processed_text\",\n      \"properties\": {\n        \"dtype\": \"string\",\n        \"num_unique_values\": 787,\n        \"samples\": [],\n        \"semantic_type\": \"\",\n        \"description\": \"\"\n      }\n    },\n    {\n      \"column\": \"pseudo_label\",\n      \"properties\": {\n        \"dtype\": \"number\",\n        \"std\": 0.6003858123947474,\n        \"min\": 0.0,\n        \"max\": 2.0,\n        \"num_unique_values\": 3,\n        \"samples\": [],\n        \"semantic_type\": \"\",\n        \"description\": \"\"\n      }\n    },\n    {\n      \"column\": \"confidence\",\n      \"properties\": {\n        \"dtype\": \"number\",\n        \"std\": 0.14029877931496795,\n        \"min\": 0.3554074053327395,\n        \"max\": 0.9433335776814331,\n        \"num_unique_values\": 786,\n        \"samples\": [],\n        \"semantic_type\": \"\",\n        \"description\": \"\"\n      }\n    }\n  ]\n}",
       "type": "dataframe",
       "variable_name": "df_unlabeled"
      },
      "text/html": [
       "\n",
       "  <div id=\"df-06e6e0d4-a236-4f87-90cd-a45799a214fd\" class=\"colab-df-container\">\n",
       "    <div>\n",
       "<style scoped>\n",
       "    .dataframe tbody tr th:only-of-type {\n",
       "        vertical-align: middle;\n",
       "    }\n",
       "\n",
       "    .dataframe tbody tr th {\n",
       "        vertical-align: top;\n",
       "    }\n",
       "\n",
       "    .dataframe thead th {\n",
       "        text-align: right;\n",
       "    }\n",
       "</style>\n",
       "<table border=\"1\" class=\"dataframe\">\n",
       "  <thead>\n",
       "    <tr style=\"text-align: right;\">\n",
       "      <th></th>\n",
       "      <th>text</th>\n",
       "      <th>label</th>\n",
       "      <th>processed_text</th>\n",
       "      <th>pseudo_label</th>\n",
       "      <th>confidence</th>\n",
       "    </tr>\n",
       "  </thead>\n",
       "  <tbody>\n",
       "    <tr>\n",
       "      <th>170</th>\n",
       "      <td>I’m 5 months pp with my second and I’m a singl...</td>\n",
       "      <td>NaN</td>\n",
       "      <td>month pp second single mom work minimum   ho...</td>\n",
       "      <td>1.0</td>\n",
       "      <td>0.432175</td>\n",
       "    </tr>\n",
       "    <tr>\n",
       "      <th>171</th>\n",
       "      <td>I've been really struggling this first week an...</td>\n",
       "      <td>NaN</td>\n",
       "      <td>really struggle first week feel like need some...</td>\n",
       "      <td>1.0</td>\n",
       "      <td>0.840869</td>\n",
       "    </tr>\n",
       "    <tr>\n",
       "      <th>172</th>\n",
       "      <td>My SO intentionally missed work today to spend...</td>\n",
       "      <td>NaN</td>\n",
       "      <td>intentionally miss work today spend kid can no...</td>\n",
       "      <td>0.0</td>\n",
       "      <td>0.463357</td>\n",
       "    </tr>\n",
       "    <tr>\n",
       "      <th>173</th>\n",
       "      <td>Has anyone been hospitalised in a (mbu) mother...</td>\n",
       "      <td>NaN</td>\n",
       "      <td>anyone hospitalise mbu mother baby unit \\n\\n f...</td>\n",
       "      <td>1.0</td>\n",
       "      <td>0.562494</td>\n",
       "    </tr>\n",
       "    <tr>\n",
       "      <th>174</th>\n",
       "      <td>I’m almost 24 weeks postpartum and just really...</td>\n",
       "      <td>NaN</td>\n",
       "      <td>almost   week postpartum really start feel ppd...</td>\n",
       "      <td>0.0</td>\n",
       "      <td>0.483622</td>\n",
       "    </tr>\n",
       "    <tr>\n",
       "      <th>...</th>\n",
       "      <td>...</td>\n",
       "      <td>...</td>\n",
       "      <td>...</td>\n",
       "      <td>...</td>\n",
       "      <td>...</td>\n",
       "    </tr>\n",
       "    <tr>\n",
       "      <th>952</th>\n",
       "      <td>I hit 7 months postpartum tomorrow, and I thin...</td>\n",
       "      <td>NaN</td>\n",
       "      <td>hit   month postpartum tomorrow think hit ever...</td>\n",
       "      <td>0.0</td>\n",
       "      <td>0.829803</td>\n",
       "    </tr>\n",
       "    <tr>\n",
       "      <th>953</th>\n",
       "      <td>PPD sucks. I’m overwhelmed by everything. Even...</td>\n",
       "      <td>NaN</td>\n",
       "      <td>ppd suck overwhelmed everything even med feel ...</td>\n",
       "      <td>0.0</td>\n",
       "      <td>0.452874</td>\n",
       "    </tr>\n",
       "    <tr>\n",
       "      <th>954</th>\n",
       "      <td>Hello! I’m a first time c section mom who’s 7 ...</td>\n",
       "      <td>NaN</td>\n",
       "      <td>hello first time c section mom   week pp deal ...</td>\n",
       "      <td>0.0</td>\n",
       "      <td>0.714858</td>\n",
       "    </tr>\n",
       "    <tr>\n",
       "      <th>955</th>\n",
       "      <td>I finally reached breaking point today. I thin...</td>\n",
       "      <td>NaN</td>\n",
       "      <td>finally reach break point today think go try t...</td>\n",
       "      <td>0.0</td>\n",
       "      <td>0.850420</td>\n",
       "    </tr>\n",
       "    <tr>\n",
       "      <th>956</th>\n",
       "      <td>hi everyone, I was just wondering if anyone ha...</td>\n",
       "      <td>NaN</td>\n",
       "      <td>hi everyone wonder anyone experience cope mech...</td>\n",
       "      <td>1.0</td>\n",
       "      <td>0.678078</td>\n",
       "    </tr>\n",
       "  </tbody>\n",
       "</table>\n",
       "<p>787 rows × 5 columns</p>\n",
       "</div>\n",
       "    <div class=\"colab-df-buttons\">\n",
       "\n",
       "  <div class=\"colab-df-container\">\n",
       "    <button class=\"colab-df-convert\" onclick=\"convertToInteractive('df-06e6e0d4-a236-4f87-90cd-a45799a214fd')\"\n",
       "            title=\"Convert this dataframe to an interactive table.\"\n",
       "            style=\"display:none;\">\n",
       "\n",
       "  <svg xmlns=\"http://www.w3.org/2000/svg\" height=\"24px\" viewBox=\"0 -960 960 960\">\n",
       "    <path d=\"M120-120v-720h720v720H120Zm60-500h600v-160H180v160Zm220 220h160v-160H400v160Zm0 220h160v-160H400v160ZM180-400h160v-160H180v160Zm440 0h160v-160H620v160ZM180-180h160v-160H180v160Zm440 0h160v-160H620v160Z\"/>\n",
       "  </svg>\n",
       "    </button>\n",
       "\n",
       "  <style>\n",
       "    .colab-df-container {\n",
       "      display:flex;\n",
       "      gap: 12px;\n",
       "    }\n",
       "\n",
       "    .colab-df-convert {\n",
       "      background-color: #E8F0FE;\n",
       "      border: none;\n",
       "      border-radius: 50%;\n",
       "      cursor: pointer;\n",
       "      display: none;\n",
       "      fill: #1967D2;\n",
       "      height: 32px;\n",
       "      padding: 0 0 0 0;\n",
       "      width: 32px;\n",
       "    }\n",
       "\n",
       "    .colab-df-convert:hover {\n",
       "      background-color: #E2EBFA;\n",
       "      box-shadow: 0px 1px 2px rgba(60, 64, 67, 0.3), 0px 1px 3px 1px rgba(60, 64, 67, 0.15);\n",
       "      fill: #174EA6;\n",
       "    }\n",
       "\n",
       "    .colab-df-buttons div {\n",
       "      margin-bottom: 4px;\n",
       "    }\n",
       "\n",
       "    [theme=dark] .colab-df-convert {\n",
       "      background-color: #3B4455;\n",
       "      fill: #D2E3FC;\n",
       "    }\n",
       "\n",
       "    [theme=dark] .colab-df-convert:hover {\n",
       "      background-color: #434B5C;\n",
       "      box-shadow: 0px 1px 3px 1px rgba(0, 0, 0, 0.15);\n",
       "      filter: drop-shadow(0px 1px 2px rgba(0, 0, 0, 0.3));\n",
       "      fill: #FFFFFF;\n",
       "    }\n",
       "  </style>\n",
       "\n",
       "    <script>\n",
       "      const buttonEl =\n",
       "        document.querySelector('#df-06e6e0d4-a236-4f87-90cd-a45799a214fd button.colab-df-convert');\n",
       "      buttonEl.style.display =\n",
       "        google.colab.kernel.accessAllowed ? 'block' : 'none';\n",
       "\n",
       "      async function convertToInteractive(key) {\n",
       "        const element = document.querySelector('#df-06e6e0d4-a236-4f87-90cd-a45799a214fd');\n",
       "        const dataTable =\n",
       "          await google.colab.kernel.invokeFunction('convertToInteractive',\n",
       "                                                    [key], {});\n",
       "        if (!dataTable) return;\n",
       "\n",
       "        const docLinkHtml = 'Like what you see? Visit the ' +\n",
       "          '<a target=\"_blank\" href=https://colab.research.google.com/notebooks/data_table.ipynb>data table notebook</a>'\n",
       "          + ' to learn more about interactive tables.';\n",
       "        element.innerHTML = '';\n",
       "        dataTable['output_type'] = 'display_data';\n",
       "        await google.colab.output.renderOutput(dataTable, element);\n",
       "        const docLink = document.createElement('div');\n",
       "        docLink.innerHTML = docLinkHtml;\n",
       "        element.appendChild(docLink);\n",
       "      }\n",
       "    </script>\n",
       "  </div>\n",
       "\n",
       "\n",
       "    <div id=\"df-0233e5e3-67bf-4e58-95bc-249dc4ba7cfb\">\n",
       "      <button class=\"colab-df-quickchart\" onclick=\"quickchart('df-0233e5e3-67bf-4e58-95bc-249dc4ba7cfb')\"\n",
       "                title=\"Suggest charts\"\n",
       "                style=\"display:none;\">\n",
       "\n",
       "<svg xmlns=\"http://www.w3.org/2000/svg\" height=\"24px\"viewBox=\"0 0 24 24\"\n",
       "     width=\"24px\">\n",
       "    <g>\n",
       "        <path d=\"M19 3H5c-1.1 0-2 .9-2 2v14c0 1.1.9 2 2 2h14c1.1 0 2-.9 2-2V5c0-1.1-.9-2-2-2zM9 17H7v-7h2v7zm4 0h-2V7h2v10zm4 0h-2v-4h2v4z\"/>\n",
       "    </g>\n",
       "</svg>\n",
       "      </button>\n",
       "\n",
       "<style>\n",
       "  .colab-df-quickchart {\n",
       "      --bg-color: #E8F0FE;\n",
       "      --fill-color: #1967D2;\n",
       "      --hover-bg-color: #E2EBFA;\n",
       "      --hover-fill-color: #174EA6;\n",
       "      --disabled-fill-color: #AAA;\n",
       "      --disabled-bg-color: #DDD;\n",
       "  }\n",
       "\n",
       "  [theme=dark] .colab-df-quickchart {\n",
       "      --bg-color: #3B4455;\n",
       "      --fill-color: #D2E3FC;\n",
       "      --hover-bg-color: #434B5C;\n",
       "      --hover-fill-color: #FFFFFF;\n",
       "      --disabled-bg-color: #3B4455;\n",
       "      --disabled-fill-color: #666;\n",
       "  }\n",
       "\n",
       "  .colab-df-quickchart {\n",
       "    background-color: var(--bg-color);\n",
       "    border: none;\n",
       "    border-radius: 50%;\n",
       "    cursor: pointer;\n",
       "    display: none;\n",
       "    fill: var(--fill-color);\n",
       "    height: 32px;\n",
       "    padding: 0;\n",
       "    width: 32px;\n",
       "  }\n",
       "\n",
       "  .colab-df-quickchart:hover {\n",
       "    background-color: var(--hover-bg-color);\n",
       "    box-shadow: 0 1px 2px rgba(60, 64, 67, 0.3), 0 1px 3px 1px rgba(60, 64, 67, 0.15);\n",
       "    fill: var(--button-hover-fill-color);\n",
       "  }\n",
       "\n",
       "  .colab-df-quickchart-complete:disabled,\n",
       "  .colab-df-quickchart-complete:disabled:hover {\n",
       "    background-color: var(--disabled-bg-color);\n",
       "    fill: var(--disabled-fill-color);\n",
       "    box-shadow: none;\n",
       "  }\n",
       "\n",
       "  .colab-df-spinner {\n",
       "    border: 2px solid var(--fill-color);\n",
       "    border-color: transparent;\n",
       "    border-bottom-color: var(--fill-color);\n",
       "    animation:\n",
       "      spin 1s steps(1) infinite;\n",
       "  }\n",
       "\n",
       "  @keyframes spin {\n",
       "    0% {\n",
       "      border-color: transparent;\n",
       "      border-bottom-color: var(--fill-color);\n",
       "      border-left-color: var(--fill-color);\n",
       "    }\n",
       "    20% {\n",
       "      border-color: transparent;\n",
       "      border-left-color: var(--fill-color);\n",
       "      border-top-color: var(--fill-color);\n",
       "    }\n",
       "    30% {\n",
       "      border-color: transparent;\n",
       "      border-left-color: var(--fill-color);\n",
       "      border-top-color: var(--fill-color);\n",
       "      border-right-color: var(--fill-color);\n",
       "    }\n",
       "    40% {\n",
       "      border-color: transparent;\n",
       "      border-right-color: var(--fill-color);\n",
       "      border-top-color: var(--fill-color);\n",
       "    }\n",
       "    60% {\n",
       "      border-color: transparent;\n",
       "      border-right-color: var(--fill-color);\n",
       "    }\n",
       "    80% {\n",
       "      border-color: transparent;\n",
       "      border-right-color: var(--fill-color);\n",
       "      border-bottom-color: var(--fill-color);\n",
       "    }\n",
       "    90% {\n",
       "      border-color: transparent;\n",
       "      border-bottom-color: var(--fill-color);\n",
       "    }\n",
       "  }\n",
       "</style>\n",
       "\n",
       "      <script>\n",
       "        async function quickchart(key) {\n",
       "          const quickchartButtonEl =\n",
       "            document.querySelector('#' + key + ' button');\n",
       "          quickchartButtonEl.disabled = true;  // To prevent multiple clicks.\n",
       "          quickchartButtonEl.classList.add('colab-df-spinner');\n",
       "          try {\n",
       "            const charts = await google.colab.kernel.invokeFunction(\n",
       "                'suggestCharts', [key], {});\n",
       "          } catch (error) {\n",
       "            console.error('Error during call to suggestCharts:', error);\n",
       "          }\n",
       "          quickchartButtonEl.classList.remove('colab-df-spinner');\n",
       "          quickchartButtonEl.classList.add('colab-df-quickchart-complete');\n",
       "        }\n",
       "        (() => {\n",
       "          let quickchartButtonEl =\n",
       "            document.querySelector('#df-0233e5e3-67bf-4e58-95bc-249dc4ba7cfb button');\n",
       "          quickchartButtonEl.style.display =\n",
       "            google.colab.kernel.accessAllowed ? 'block' : 'none';\n",
       "        })();\n",
       "      </script>\n",
       "    </div>\n",
       "\n",
       "  <div id=\"id_71636b89-2ff2-41ed-943f-65c15357aa6e\">\n",
       "    <style>\n",
       "      .colab-df-generate {\n",
       "        background-color: #E8F0FE;\n",
       "        border: none;\n",
       "        border-radius: 50%;\n",
       "        cursor: pointer;\n",
       "        display: none;\n",
       "        fill: #1967D2;\n",
       "        height: 32px;\n",
       "        padding: 0 0 0 0;\n",
       "        width: 32px;\n",
       "      }\n",
       "\n",
       "      .colab-df-generate:hover {\n",
       "        background-color: #E2EBFA;\n",
       "        box-shadow: 0px 1px 2px rgba(60, 64, 67, 0.3), 0px 1px 3px 1px rgba(60, 64, 67, 0.15);\n",
       "        fill: #174EA6;\n",
       "      }\n",
       "\n",
       "      [theme=dark] .colab-df-generate {\n",
       "        background-color: #3B4455;\n",
       "        fill: #D2E3FC;\n",
       "      }\n",
       "\n",
       "      [theme=dark] .colab-df-generate:hover {\n",
       "        background-color: #434B5C;\n",
       "        box-shadow: 0px 1px 3px 1px rgba(0, 0, 0, 0.15);\n",
       "        filter: drop-shadow(0px 1px 2px rgba(0, 0, 0, 0.3));\n",
       "        fill: #FFFFFF;\n",
       "      }\n",
       "    </style>\n",
       "    <button class=\"colab-df-generate\" onclick=\"generateWithVariable('df_unlabeled')\"\n",
       "            title=\"Generate code using this dataframe.\"\n",
       "            style=\"display:none;\">\n",
       "\n",
       "  <svg xmlns=\"http://www.w3.org/2000/svg\" height=\"24px\"viewBox=\"0 0 24 24\"\n",
       "       width=\"24px\">\n",
       "    <path d=\"M7,19H8.4L18.45,9,17,7.55,7,17.6ZM5,21V16.75L18.45,3.32a2,2,0,0,1,2.83,0l1.4,1.43a1.91,1.91,0,0,1,.58,1.4,1.91,1.91,0,0,1-.58,1.4L9.25,21ZM18.45,9,17,7.55Zm-12,3A5.31,5.31,0,0,0,4.9,8.1,5.31,5.31,0,0,0,1,6.5,5.31,5.31,0,0,0,4.9,4.9,5.31,5.31,0,0,0,6.5,1,5.31,5.31,0,0,0,8.1,4.9,5.31,5.31,0,0,0,12,6.5,5.46,5.46,0,0,0,6.5,12Z\"/>\n",
       "  </svg>\n",
       "    </button>\n",
       "    <script>\n",
       "      (() => {\n",
       "      const buttonEl =\n",
       "        document.querySelector('#id_71636b89-2ff2-41ed-943f-65c15357aa6e button.colab-df-generate');\n",
       "      buttonEl.style.display =\n",
       "        google.colab.kernel.accessAllowed ? 'block' : 'none';\n",
       "\n",
       "      buttonEl.onclick = () => {\n",
       "        google.colab.notebook.generateWithVariable('df_unlabeled');\n",
       "      }\n",
       "      })();\n",
       "    </script>\n",
       "  </div>\n",
       "\n",
       "    </div>\n",
       "  </div>\n"
      ],
      "text/plain": [
       "                                                  text  label  \\\n",
       "170  I’m 5 months pp with my second and I’m a singl...    NaN   \n",
       "171  I've been really struggling this first week an...    NaN   \n",
       "172  My SO intentionally missed work today to spend...    NaN   \n",
       "173  Has anyone been hospitalised in a (mbu) mother...    NaN   \n",
       "174  I’m almost 24 weeks postpartum and just really...    NaN   \n",
       "..                                                 ...    ...   \n",
       "952  I hit 7 months postpartum tomorrow, and I thin...    NaN   \n",
       "953  PPD sucks. I’m overwhelmed by everything. Even...    NaN   \n",
       "954  Hello! I’m a first time c section mom who’s 7 ...    NaN   \n",
       "955  I finally reached breaking point today. I thin...    NaN   \n",
       "956  hi everyone, I was just wondering if anyone ha...    NaN   \n",
       "\n",
       "                                        processed_text  pseudo_label  \\\n",
       "170    month pp second single mom work minimum   ho...           1.0   \n",
       "171  really struggle first week feel like need some...           1.0   \n",
       "172  intentionally miss work today spend kid can no...           0.0   \n",
       "173  anyone hospitalise mbu mother baby unit \\n\\n f...           1.0   \n",
       "174  almost   week postpartum really start feel ppd...           0.0   \n",
       "..                                                 ...           ...   \n",
       "952  hit   month postpartum tomorrow think hit ever...           0.0   \n",
       "953  ppd suck overwhelmed everything even med feel ...           0.0   \n",
       "954  hello first time c section mom   week pp deal ...           0.0   \n",
       "955  finally reach break point today think go try t...           0.0   \n",
       "956  hi everyone wonder anyone experience cope mech...           1.0   \n",
       "\n",
       "     confidence  \n",
       "170    0.432175  \n",
       "171    0.840869  \n",
       "172    0.463357  \n",
       "173    0.562494  \n",
       "174    0.483622  \n",
       "..          ...  \n",
       "952    0.829803  \n",
       "953    0.452874  \n",
       "954    0.714858  \n",
       "955    0.850420  \n",
       "956    0.678078  \n",
       "\n",
       "[787 rows x 5 columns]"
      ]
     },
     "execution_count": 27,
     "metadata": {},
     "output_type": "execute_result"
    }
   ],
   "source": [
    "df_unlabeled"
   ]
  },
  {
   "cell_type": "code",
   "execution_count": null,
   "metadata": {
    "colab": {
     "base_uri": "https://localhost:8080/",
     "height": 227
    },
    "executionInfo": {
     "elapsed": 19,
     "status": "ok",
     "timestamp": 1746701350110,
     "user": {
      "displayName": "YuJie Li",
      "userId": "03390522068803415481"
     },
     "user_tz": -120
    },
    "id": "GLRmXskNeBnM",
    "outputId": "1ee30bd3-e102-487f-94ca-fde2a2777ece"
   },
   "outputs": [
    {
     "name": "stdout",
     "output_type": "stream",
     "text": [
      "Number of samples with confidence greater than 0.8: 119\n"
     ]
    },
    {
     "data": {
      "text/html": [
       "<div>\n",
       "<style scoped>\n",
       "    .dataframe tbody tr th:only-of-type {\n",
       "        vertical-align: middle;\n",
       "    }\n",
       "\n",
       "    .dataframe tbody tr th {\n",
       "        vertical-align: top;\n",
       "    }\n",
       "\n",
       "    .dataframe thead th {\n",
       "        text-align: right;\n",
       "    }\n",
       "</style>\n",
       "<table border=\"1\" class=\"dataframe\">\n",
       "  <thead>\n",
       "    <tr style=\"text-align: right;\">\n",
       "      <th></th>\n",
       "      <th>count</th>\n",
       "    </tr>\n",
       "    <tr>\n",
       "      <th>pseudo_label</th>\n",
       "      <th></th>\n",
       "    </tr>\n",
       "  </thead>\n",
       "  <tbody>\n",
       "    <tr>\n",
       "      <th>0.0</th>\n",
       "      <td>104</td>\n",
       "    </tr>\n",
       "    <tr>\n",
       "      <th>1.0</th>\n",
       "      <td>14</td>\n",
       "    </tr>\n",
       "    <tr>\n",
       "      <th>2.0</th>\n",
       "      <td>1</td>\n",
       "    </tr>\n",
       "  </tbody>\n",
       "</table>\n",
       "</div><br><label><b>dtype:</b> int64</label>"
      ],
      "text/plain": [
       "pseudo_label\n",
       "0.0    104\n",
       "1.0     14\n",
       "2.0      1\n",
       "Name: count, dtype: int64"
      ]
     },
     "execution_count": 35,
     "metadata": {},
     "output_type": "execute_result"
    }
   ],
   "source": [
    "\n",
    "df_high_confidence = df_unlabeled[df_unlabeled['confidence'] > 0.8]\n",
    "\n",
    "high_conf_samples_count = df_high_confidence.shape[0]\n",
    "\n",
    "print(f\"Number of samples with confidence greater than 0.8: {high_conf_samples_count}\")\n",
    "\n",
    "df_high_confidence[\"pseudo_label\"].value_counts()\n"
   ]
  },
  {
   "cell_type": "code",
   "execution_count": null,
   "metadata": {
    "colab": {
     "base_uri": "https://localhost:8080/"
    },
    "executionInfo": {
     "elapsed": 47,
     "status": "ok",
     "timestamp": 1746701688574,
     "user": {
      "displayName": "YuJie Li",
      "userId": "03390522068803415481"
     },
     "user_tz": -120
    },
    "id": "eNgV4DG6gik_",
    "outputId": "6e085fea-5446-4daa-fd0c-8c9d428cbf77"
   },
   "outputs": [
    {
     "name": "stdout",
     "output_type": "stream",
     "text": [
      "[171, 177, 186, 189, 191, 196, 200, 206, 208, 211, 217, 225, 227, 231, 235, 245, 246, 247, 252, 262, 266, 267, 275, 279, 281, 284, 299, 304, 318, 322, 329, 338, 344, 349, 354, 358, 359, 388, 389, 400, 406, 423, 449, 465, 473, 474, 476, 492, 503, 504, 513, 515, 521, 537, 538, 553, 559, 563, 564, 565, 570, 573, 576, 578, 584, 586, 592, 593, 612, 633, 634, 635, 641, 653, 656, 675, 680, 700, 713, 718, 719, 726, 727, 733, 736, 740, 744, 747, 760, 765, 777, 785, 799, 802, 804, 811, 814, 815, 829, 832, 835, 840, 841, 852, 858, 864, 871, 872, 901, 906, 919, 925, 933, 938, 939, 940, 945, 952, 955]\n"
     ]
    }
   ],
   "source": [
    "\n",
    "print(df_high_confidence.index.to_list())\n"
   ]
  },
  {
   "cell_type": "code",
   "execution_count": null,
   "metadata": {
    "colab": {
     "base_uri": "https://localhost:8080/",
     "height": 210
    },
    "executionInfo": {
     "elapsed": 14,
     "status": "ok",
     "timestamp": 1746701815769,
     "user": {
      "displayName": "YuJie Li",
      "userId": "03390522068803415481"
     },
     "user_tz": -120
    },
    "id": "aAlPpWjehAEx",
    "outputId": "9020134c-5d38-4e48-cd8b-51443d1e17e1"
   },
   "outputs": [
    {
     "data": {
      "text/html": [
       "<div>\n",
       "<style scoped>\n",
       "    .dataframe tbody tr th:only-of-type {\n",
       "        vertical-align: middle;\n",
       "    }\n",
       "\n",
       "    .dataframe tbody tr th {\n",
       "        vertical-align: top;\n",
       "    }\n",
       "\n",
       "    .dataframe thead th {\n",
       "        text-align: right;\n",
       "    }\n",
       "</style>\n",
       "<table border=\"1\" class=\"dataframe\">\n",
       "  <thead>\n",
       "    <tr style=\"text-align: right;\">\n",
       "      <th></th>\n",
       "      <th>count</th>\n",
       "    </tr>\n",
       "    <tr>\n",
       "      <th>pseudo_label</th>\n",
       "      <th></th>\n",
       "    </tr>\n",
       "  </thead>\n",
       "  <tbody>\n",
       "    <tr>\n",
       "      <th>1.0</th>\n",
       "      <td>70</td>\n",
       "    </tr>\n",
       "    <tr>\n",
       "      <th>0.0</th>\n",
       "      <td>60</td>\n",
       "    </tr>\n",
       "    <tr>\n",
       "      <th>2.0</th>\n",
       "      <td>23</td>\n",
       "    </tr>\n",
       "  </tbody>\n",
       "</table>\n",
       "</div><br><label><b>dtype:</b> int64</label>"
      ],
      "text/plain": [
       "pseudo_label\n",
       "1.0    70\n",
       "0.0    60\n",
       "2.0    23\n",
       "Name: count, dtype: int64"
      ]
     },
     "execution_count": 47,
     "metadata": {},
     "output_type": "execute_result"
    }
   ],
   "source": [
    "df_low_confidence = df_unlabeled[df_unlabeled['confidence'] < 0.5]\n",
    "\n",
    "low_conf_samples_count = df_low_confidence.shape[0]\n",
    "\n",
    "df_low_confidence[\"pseudo_label\"].value_counts()\n"
   ]
  },
  {
   "cell_type": "code",
   "execution_count": null,
   "metadata": {
    "executionInfo": {
     "elapsed": 214,
     "status": "ok",
     "timestamp": 1746701945504,
     "user": {
      "displayName": "YuJie Li",
      "userId": "03390522068803415481"
     },
     "user_tz": -120
    },
    "id": "1te09WzZihEv"
   },
   "outputs": [],
   "source": [
    "\n",
    "df_unlabeled.to_csv('df_unlabeled.csv', index=True)\n"
   ]
  },
  {
   "cell_type": "code",
   "execution_count": 50,
   "metadata": {
    "executionInfo": {
     "elapsed": 39,
     "status": "ok",
     "timestamp": 1746702043122,
     "user": {
      "displayName": "YuJie Li",
      "userId": "03390522068803415481"
     },
     "user_tz": -120
    },
    "id": "h_VwEZbGjIiA"
   },
   "outputs": [],
   "source": [
    "df_high_confidence.to_csv('df_high_confidence.csv', index=True)"
   ]
  }
 ],
 "metadata": {
  "colab": {
   "authorship_tag": "ABX9TyMN6AMCkNL8AuyNeuS9jLS6",
   "provenance": []
  },
  "kernelspec": {
   "display_name": "Python 3",
   "name": "python3"
  },
  "language_info": {
   "name": "python"
  }
 },
 "nbformat": 4,
 "nbformat_minor": 0
}
